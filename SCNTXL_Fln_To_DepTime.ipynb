{
 "cells": [
  {
   "cell_type": "code",
   "execution_count": 56,
   "metadata": {},
   "outputs": [],
   "source": [
    "import os\n",
    "\n",
    "import datetime\n",
    "\n",
    "import numpy as np\n",
    "import pandas as pd\n",
    "\n",
    "from pandas import Series\n",
    "from pandas import DataFrame"
   ]
  },
  {
   "cell_type": "code",
   "execution_count": 57,
   "metadata": {},
   "outputs": [],
   "source": [
    "path_in='Z:/Booking Curves/Data/Experimental Data'\n",
    "path_out='Z:/Booking Curves/Data/Map Fln_To_DepTime'"
   ]
  },
  {
   "cell_type": "code",
   "execution_count": 58,
   "metadata": {},
   "outputs": [],
   "source": [
    "Data=pd.read_csv(path_in+'/'+'ExportCpns.csv',sep=',')\n",
    "Data=Data[['FltNum','DepDate','DepTime']].drop_duplicates()\n",
    "Data['FltNum']=Data['FltNum'].astype('str')\n",
    "Data['DepDate']=Data['DepDate'].apply(lambda x: str(x.split(' ')[0]).replace('.','/'))\n",
    "Data['DepTime']=Data['DepTime'].apply(lambda x: str(x.split(' ')[1]))"
   ]
  },
  {
   "cell_type": "code",
   "execution_count": 59,
   "metadata": {},
   "outputs": [],
   "source": [
    "Data.to_csv(path_out+'/'+'SCNTXL.csv',index=False)"
   ]
  }
 ],
 "metadata": {
  "kernelspec": {
   "display_name": "Python 3",
   "language": "python",
   "name": "python3"
  },
  "language_info": {
   "codemirror_mode": {
    "name": "ipython",
    "version": 3
   },
   "file_extension": ".py",
   "mimetype": "text/x-python",
   "name": "python",
   "nbconvert_exporter": "python",
   "pygments_lexer": "ipython3",
   "version": "3.6.8"
  }
 },
 "nbformat": 4,
 "nbformat_minor": 2
}
