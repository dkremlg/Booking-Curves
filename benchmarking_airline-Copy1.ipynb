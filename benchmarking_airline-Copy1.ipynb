{
 "cells": [
  {
   "cell_type": "code",
   "execution_count": 971,
   "metadata": {},
   "outputs": [],
   "source": [
    "import numpy as np  \n",
    "import pandas as pd\n",
    "from pandas import Series, DataFrame\n",
    "import tensorflow as tf\n",
    "from sklearn.model_selection import train_test_split\n",
    "\n",
    "from tensorflow.python.ops import confusion_matrix\n",
    "from tensorflow.python.ops import math_ops\n",
    "\n",
    "import matplotlib.pyplot as plt\n",
    "from scipy import stats"
   ]
  },
  {
   "cell_type": "code",
   "execution_count": 972,
   "metadata": {},
   "outputs": [],
   "source": [
    "route='LUX-MXP'\n",
    "train_type='hist'\n",
    "lambda_lasso=0\n",
    "var_set='l'\n",
    "\n",
    "if len(route)>3:\n",
    "    business='airline'\n",
    "else:\n",
    "    business='tours'"
   ]
  },
  {
   "cell_type": "code",
   "execution_count": 973,
   "metadata": {},
   "outputs": [],
   "source": [
    "def dprio_class(x):\n",
    "    if x<=25:\n",
    "        return 'a: x<=25'\n",
    "    elif x<=50:\n",
    "        return 'b: 25<x<=50'\n",
    "    elif x<=75:\n",
    "        return 'c: 50<x<=75'\n",
    "    elif x<=100:\n",
    "        return 'd: 75<x<=100'\n",
    "    elif x<=125:\n",
    "        return 'e: 100<x<=125'\n",
    "    elif x<=150:\n",
    "        return 'f: 125<x<=150'\n",
    "    elif x<=175:\n",
    "        return 'g: 150<x<=175'\n",
    "    elif x<=200:\n",
    "        return 'h: 175<x<=200'\n",
    "    elif x<=225:\n",
    "        return 'i: 200<x<=225'\n",
    "    elif x<=250:\n",
    "        return 'j: 225<x<=250'\n",
    "    elif x<=275:\n",
    "        return 'k: 250<x<=275'\n",
    "    elif x<=300:\n",
    "        return 'l: 275<x<=300'\n",
    "    elif x<=325:\n",
    "        return 'm: 300<x<=325'\n",
    "    elif x<=350:\n",
    "        return 'n: 325<x<=350'\n",
    "    else:\n",
    "        return 'o: 350<x'"
   ]
  },
  {
   "cell_type": "markdown",
   "metadata": {},
   "source": [
    "# Neural Network"
   ]
  },
  {
   "cell_type": "code",
   "execution_count": 974,
   "metadata": {},
   "outputs": [],
   "source": [
    "y_test=pd.read_csv('y_test'+'_'+route+'.csv')\n",
    "y_test=y_test.rename(columns={'concat': 'id'})\n",
    "out_layer=pd.read_csv('out_layer_'+route+'.csv')\n",
    "\n",
    "out_layer['id']=y_test['id']\n",
    "\n",
    "out_layer=out_layer.melt(id_vars='id',value_vars=[x for x in out_layer.columns if x!='id']).rename(columns={'variable': 'dprio', 'value': 'predict'})\n",
    "y_test=y_test.melt(id_vars='id',value_vars=[x for x in y_test.columns if x!='id']).rename(columns={'variable': 'dprio', 'value': 'bookings'})\n",
    "\n",
    "y_nn=y_test.merge(out_layer,on=['id','dprio'])\n",
    "y_nn['abs_error']=np.abs(y_nn['bookings']-y_nn['predict'])\n",
    "y_nn['dprio']=y_nn['dprio'].astype('int')\n",
    "y_nn_flight=y_nn.groupby('id')['abs_error'].max().reset_index()\n",
    "\n",
    "y_nn=y_nn.sort_values(by=['dprio','abs_error'])\n",
    "y_nn.index=range(y_nn.shape[0])\n",
    "\n",
    "y_nn=y_nn[['dprio','abs_error']]"
   ]
  },
  {
   "cell_type": "code",
   "execution_count": 975,
   "metadata": {},
   "outputs": [],
   "source": [
    "X_train=pd.read_csv('X_train_'+var_set+'_'+route+'.csv')\n",
    "X_train['direction:O']=X_train['direction:O'].apply(lambda x: 'O' if x==1 else 'I')\n",
    "y_train=pd.read_csv('y_train'+'_'+route+'.csv')\n",
    "X_test=pd.read_csv('X_test_'+var_set+'_'+route+'.csv')\n",
    "X_test['direction:O']=X_test['direction:O'].apply(lambda x: 'O' if x==1 else 'I')\n",
    "y_test=pd.read_csv('y_test'+'_'+route+'.csv')\n",
    "y_test=y_test[[x for x in y_test.columns if x!='concat']]\n",
    "\n",
    "y_train['id']=X_train['yearweek'].astype('int').astype('str')+'-'+X_train['weekday'].astype('str')+'-'+X_train['direction:O'].astype('str')+'-'+X_train['dep_time'].astype('str')\n",
    "y_test['id']=X_test['yearweek'].astype('int').astype('str')+'-'+X_test['weekday'].astype('str')+'-'+X_test['direction:O'].astype('str')+'-'+X_test['dep_time'].astype('str')\n",
    "\n",
    "y_train=y_train.groupby('id')[[x for x in y_train.columns if x!='id']].mean().reset_index()\n",
    "\n",
    "y_train=y_train.melt(id_vars='id',value_vars=[x for x in y_train.columns if x!='id']).rename(columns={'variable': 'dprio', 'value': 'predict'})\n",
    "y_test=y_test.melt(id_vars='id',value_vars=[x for x in y_test.columns if x!='id']).rename(columns={'variable': 'dprio', 'value': 'bookings'})\n",
    "\n",
    "y_bench=y_test.merge(y_train,on=['id','dprio'])\n",
    "y_bench['abs_error']=np.abs(y_bench['bookings']-y_bench['predict'])\n",
    "y_bench['dprio']=y_bench['dprio'].astype('int')\n",
    "y_bench_flight=y_bench.groupby('id')['abs_error'].max().reset_index()\n",
    "\n",
    "#y_bench=y_bench.loc[y_bench['abs_error']>0,:]\n",
    "\n",
    "y_bench=y_bench.sort_values(by=['dprio','abs_error'])\n",
    "y_bench=y_bench[['dprio','abs_error']]\n",
    "\n",
    "y=pd.concat([y_nn,y_bench])\n",
    "\n",
    "y=y.sort_values(by=['dprio','abs_error']).drop_duplicates()"
   ]
  },
  {
   "cell_type": "code",
   "execution_count": 976,
   "metadata": {},
   "outputs": [],
   "source": [
    "cval=0.05154512586\n",
    "\n",
    "dprio_max=365\n",
    "\n",
    "ks_nn=[]\n",
    "ks_bench=[]\n",
    "\n",
    "stochdom_nn=[0]*(dprio_max+1)\n",
    "stochdom_bench=[0]*(dprio_max+1)\n",
    "\n",
    "integral=[]\n",
    "\n",
    "for dprio in range(dprio_max+1):\n",
    "    \n",
    "    thres_1=0\n",
    "    thres_2=1\n",
    "    x=y.loc[y['dprio']==dprio,'abs_error']\n",
    "\n",
    "    x_i=y_nn.loc[y_nn['dprio']==dprio,'abs_error']\n",
    "    x_diff=np.subtract.outer(x_i,x)\n",
    "    x_diff=np.abs(DataFrame(x_diff))\n",
    "    x_diff.index=x_i\n",
    "    x_diff.columns=x\n",
    "    w_nn=DataFrame(0,index=x_diff.index,columns=x_diff.columns)\n",
    "    w_nn[x_diff<=thres_1]=1\n",
    "    cdf_nn=w_nn.apply('sum',axis=0).reset_index()\n",
    "    cdf_nn[0]=np.cumsum(cdf_nn[0])/np.sum(cdf_nn[0])\n",
    "    cdf_nn=cdf_nn.loc[cdf_nn['abs_error']>=thres_2,:]\n",
    "\n",
    "    x_i=y_bench.loc[y_bench['dprio']==dprio,'abs_error']\n",
    "    x_diff=np.subtract.outer(x_i,x)\n",
    "    x_diff=np.abs(DataFrame(x_diff))\n",
    "    x_diff.index=x_i\n",
    "    x_diff.columns=x\n",
    "    w_bench=DataFrame(0,index=x_diff.index,columns=x_diff.columns)\n",
    "    w_bench[x_diff<=thres_1]=1\n",
    "    cdf_bench=w_bench.apply('sum',axis=0).reset_index()\n",
    "    cdf_bench[0]=np.cumsum(cdf_bench[0])/np.sum(cdf_bench[0])\n",
    "    cdf_bench=cdf_bench.loc[cdf_bench['abs_error']>=thres_2,:]\n",
    "    \n",
    "#     plt.plot(cdf_nn['abs_error'],cdf_nn[0])\n",
    "#     plt.plot(cdf_bench['abs_error'],cdf_bench[0])\n",
    "#     plt.show()\n",
    "\n",
    "    ks_nn.append(np.max(cdf_nn[0]-cdf_bench[0]))\n",
    "    ks_bench.append(np.max(cdf_bench[0]-cdf_nn[0]))\n",
    "    \n",
    "    if ks_nn[dprio]>cval:\n",
    "        stochdom_nn[dprio]=1\n",
    "    if ks_bench[dprio]>cval:\n",
    "        stochdom_bench[dprio]=1\n",
    "        \n",
    "    surface=pd.concat([cdf_nn[0],cdf_bench[0]],axis=1)\n",
    "    surface.columns=['nn','bench']\n",
    "    integral.append(np.sum(surface.apply(lambda x: x[0]>x[1],axis=1))/surface.shape[0])"
   ]
  },
  {
   "cell_type": "code",
   "execution_count": 977,
   "metadata": {},
   "outputs": [],
   "source": [
    "stochdom=DataFrame([range(dprio_max+1),stochdom_nn,stochdom_bench]).transpose()\n",
    "stochdom.columns=['dprio','nn','bench']"
   ]
  },
  {
   "cell_type": "code",
   "execution_count": 978,
   "metadata": {},
   "outputs": [
    {
     "data": {
      "text/plain": [
       "[array([  0,   1,   2,   3,   4,   5,   6,   7,   8,   9,  10,  11,  12,\n",
       "         13,  14,  15,  16,  17,  18,  19,  20,  21,  22,  23,  24,  25,\n",
       "         26,  27,  28,  29,  30,  31,  32,  33,  34,  35,  36,  37,  38,\n",
       "         39,  40,  41,  42,  43,  44,  45,  46,  47, 136, 159, 166, 167,\n",
       "        170, 171, 172, 173, 174, 175, 176, 177, 178, 179, 180, 181, 182,\n",
       "        183, 184, 185, 186, 187, 188, 189, 190, 191, 192, 193, 194, 195,\n",
       "        196, 197, 198, 199, 200, 201, 202, 203, 204, 205, 206, 207, 208,\n",
       "        209, 210, 211, 212, 213, 214, 215, 216, 217, 218, 219, 220, 221,\n",
       "        222, 223, 224, 225, 226, 227, 228, 229, 231, 232, 233, 234, 235,\n",
       "        236, 237, 238, 239, 240, 241, 243, 244, 248, 250, 251, 252, 255,\n",
       "        256, 257], dtype=int64), 132]"
      ]
     },
     "execution_count": 978,
     "metadata": {},
     "output_type": "execute_result"
    }
   ],
   "source": [
    "[stochdom.loc[(stochdom['nn']==1)&(stochdom['bench']==0),'dprio'].unique(),\n",
    "len(stochdom.loc[(stochdom['nn']==1)&(stochdom['bench']==0),'dprio'].unique())]"
   ]
  },
  {
   "cell_type": "code",
   "execution_count": 979,
   "metadata": {},
   "outputs": [
    {
     "data": {
      "text/plain": [
       "[array([], dtype=int64), 0]"
      ]
     },
     "execution_count": 979,
     "metadata": {},
     "output_type": "execute_result"
    }
   ],
   "source": [
    "[stochdom.loc[(stochdom['nn']==0)&(stochdom['bench']==1),'dprio'].unique(),\n",
    "len(stochdom.loc[(stochdom['nn']==0)&(stochdom['bench']==1),'dprio'].unique())]"
   ]
  },
  {
   "cell_type": "code",
   "execution_count": 980,
   "metadata": {},
   "outputs": [
    {
     "data": {
      "text/plain": [
       "[array([ 48,  49,  50,  51,  52,  53,  54,  55,  56,  57,  58,  59,  60,\n",
       "         61,  62,  63,  64,  65,  66,  67,  68,  69,  70,  71,  72,  73,\n",
       "         74,  75,  76,  77,  78,  79,  80,  81,  82,  83,  84,  85,  86,\n",
       "         87,  88,  89,  90,  91,  92,  93,  94,  95,  96,  97,  98,  99,\n",
       "        100, 101, 102, 103, 104, 105, 106, 107, 108, 109, 110, 111, 112,\n",
       "        113, 114, 115, 116, 117, 118, 119, 120, 121, 122, 123, 124, 125,\n",
       "        126, 127, 128, 129, 130, 131, 132, 133, 134, 135, 137, 138, 139,\n",
       "        140, 141, 142, 143, 144, 145, 146, 147, 148, 149, 150, 151, 152,\n",
       "        153, 154, 155, 156, 157, 158, 160, 161, 162, 163, 164, 165, 168,\n",
       "        169, 230, 242, 245, 246, 247, 249, 253, 254, 258, 259, 260, 261,\n",
       "        262, 263, 264, 265, 266, 267, 268, 269, 270, 271, 272, 273, 274,\n",
       "        275, 276, 277, 278, 279, 280, 281, 282, 283, 284, 285, 286, 287,\n",
       "        288, 289, 290, 291, 292, 293, 294, 295, 296, 297, 298, 299, 300,\n",
       "        301, 302, 303, 304, 305, 306, 307, 308, 309, 310, 311, 312, 313,\n",
       "        314, 315, 316, 317, 318, 319, 320, 321, 322, 323, 324, 325, 326,\n",
       "        327, 328, 329, 330, 331, 332, 333, 334, 335, 336, 337, 338, 339,\n",
       "        340, 341, 342, 343, 344, 345, 346, 347, 348, 349, 350, 351, 352,\n",
       "        353, 354, 355, 356, 357, 358, 359, 360, 361, 362, 363, 364, 365],\n",
       "       dtype=int64), 234]"
      ]
     },
     "execution_count": 980,
     "metadata": {},
     "output_type": "execute_result"
    }
   ],
   "source": [
    "[stochdom.loc[((stochdom['nn']==1)&(stochdom['bench']==1))|((stochdom['nn']==0)&(stochdom['bench']==0)),'dprio'].unique(),\n",
    "len(stochdom.loc[((stochdom['nn']==1)&(stochdom['bench']==1))|((stochdom['nn']==0)&(stochdom['bench']==0)),'dprio'].unique())]"
   ]
  },
  {
   "cell_type": "code",
   "execution_count": 981,
   "metadata": {},
   "outputs": [
    {
     "data": {
      "text/plain": [
       "0.8005464480874317"
      ]
     },
     "execution_count": 981,
     "metadata": {},
     "output_type": "execute_result"
    }
   ],
   "source": [
    "sum([ks_nn[i]>ks_bench[i] for i in range(len(ks_nn))])/366"
   ]
  },
  {
   "cell_type": "code",
   "execution_count": 991,
   "metadata": {},
   "outputs": [
    {
     "data": {
      "text/plain": [
       "0.7185792349726776"
      ]
     },
     "execution_count": 991,
     "metadata": {},
     "output_type": "execute_result"
    }
   ],
   "source": [
    "len([x for x in integral[:360] if x>0.5 and x!=np.nan])/366"
   ]
  }
 ],
 "metadata": {
  "kernelspec": {
   "display_name": "Python 3",
   "language": "python",
   "name": "python3"
  },
  "language_info": {
   "codemirror_mode": {
    "name": "ipython",
    "version": 3
   },
   "file_extension": ".py",
   "mimetype": "text/x-python",
   "name": "python",
   "nbconvert_exporter": "python",
   "pygments_lexer": "ipython3",
   "version": "3.7.1"
  }
 },
 "nbformat": 4,
 "nbformat_minor": 2
}
