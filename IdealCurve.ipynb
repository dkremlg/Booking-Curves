{
 "cells": [
  {
   "cell_type": "code",
   "execution_count": 4,
   "metadata": {},
   "outputs": [],
   "source": [
    "import os\n",
    "\n",
    "import datetime\n",
    "\n",
    "import numpy as np\n",
    "import pandas as pd\n",
    "\n",
    "from pandas import Series\n",
    "from pandas import DataFrame\n",
    "\n",
    "from scipy.stats import poisson\n",
    "\n",
    "import matplotlib.pyplot as plt"
   ]
  },
  {
   "cell_type": "code",
   "execution_count": 5,
   "metadata": {},
   "outputs": [],
   "source": [
    "C=70.0\n",
    "downweight=0.8\n",
    "risk_spill=0.95\n",
    "risk_spoil=risk_spill\n",
    "downweight_granularity=['dtime','Direction','dday','month']"
   ]
  },
  {
   "cell_type": "code",
   "execution_count": 6,
   "metadata": {},
   "outputs": [],
   "source": [
    "C_datadriven=pd.read_csv('R_Training_Pax.csv')\n",
    "C_datadriven=C_datadriven.groupby(['DepDate']+downweight_granularity)['NumPax'].sum().reset_index()\n",
    "C_datadriven=C_datadriven.groupby(downweight_granularity)['NumPax'].max().reset_index().rename(columns={'NumPax': 'downweight'})\n",
    "C_datadriven['downweight']=C_datadriven['downweight'].astype('float')/C\n",
    "C_datadriven['downweight']=C_datadriven['downweight'].apply(lambda x: downweight if x>downweight else x)\n",
    "# C_datadriven['downweight']=downweight"
   ]
  },
  {
   "cell_type": "code",
   "execution_count": 7,
   "metadata": {},
   "outputs": [],
   "source": [
    "Prediction=pd.read_csv('R_Output_Training_Pax.csv',sep=',')\n",
    "\n",
    "Tree=Prediction[['yday','dtime','Direction','month','dday','forecast_node']].drop_duplicates().copy()\n",
    "\n",
    "Tree_yday=Tree.groupby('forecast_node')['yday'].min().reset_index().merge(Tree.groupby('forecast_node')['yday'].max().reset_index(),\n",
    "on='forecast_node').rename(columns={'yday_x': 'Min', 'yday_y': 'Max'})\n",
    "\n",
    "Tree_yday['yday']='['+Tree_yday['Min'].astype('str')+'-'+Tree_yday['Max'].astype('str')+']'\n",
    "Tree_yday=Tree_yday[[x for x in Tree_yday.columns if x not in ['Min','Max']]]\n",
    "\n",
    "Tree_dtime=Tree.groupby('forecast_node')['dtime'].unique().reset_index()\n",
    "Tree_dday=Tree.groupby('forecast_node')['dday'].unique().reset_index()\n",
    "Tree_Direction=Tree.groupby('forecast_node')['Direction'].unique().reset_index()\n",
    "\n",
    "Tree=Tree_yday.merge(Tree_dtime,on='forecast_node')\n",
    "Tree=Tree.merge(Tree_dday,on='forecast_node')\n",
    "Tree=Tree.merge(Tree_Direction,on='forecast_node')"
   ]
  },
  {
   "cell_type": "code",
   "execution_count": 8,
   "metadata": {},
   "outputs": [],
   "source": [
    "Prediction=Prediction.merge(C_datadriven,on=downweight_granularity)\n",
    "\n",
    "IdealCurve=Prediction[['Dprio']+downweight_granularity+['forecast_bookings','forecast_node','downweight']]\\\n",
    ".drop_duplicates(subset=['Dprio']+downweight_granularity)\n",
    "\n",
    "IdealCurve=IdealCurve.merge(IdealCurve.groupby(downweight_granularity)['forecast_bookings'].sum().reset_index()\\\n",
    ".rename(columns={'forecast_bookings': 'forecast_bookings_sum'}),on=downweight_granularity)"
   ]
  },
  {
   "cell_type": "code",
   "execution_count": 9,
   "metadata": {},
   "outputs": [],
   "source": [
    "IdealCurve['forecast_bookings_full']=C*(IdealCurve['forecast_bookings']/IdealCurve['forecast_bookings_sum'])\n",
    "IdealCurve['forecast_bookings_downweighted']=C*IdealCurve['downweight']*(IdealCurve['forecast_bookings']/IdealCurve['forecast_bookings_sum'])"
   ]
  },
  {
   "cell_type": "code",
   "execution_count": 10,
   "metadata": {},
   "outputs": [],
   "source": [
    "IdealCurve['Cap_full']=C\n",
    "IdealCurve['Cap_downweighted']=C*IdealCurve['downweight']"
   ]
  },
  {
   "cell_type": "code",
   "execution_count": 11,
   "metadata": {},
   "outputs": [],
   "source": [
    "Probability=IdealCurve[['Dprio','dtime','Direction','dday','month','Cap_full','Cap_downweighted']].copy()"
   ]
  },
  {
   "cell_type": "code",
   "execution_count": 12,
   "metadata": {},
   "outputs": [],
   "source": [
    "IdealCurve.to_csv('IdealCurve_forYield.csv',index=False)"
   ]
  },
  {
   "cell_type": "markdown",
   "metadata": {},
   "source": [
    "# Cumulation"
   ]
  },
  {
   "cell_type": "code",
   "execution_count": 13,
   "metadata": {},
   "outputs": [],
   "source": [
    "IdealCurve=IdealCurve[[x for x in IdealCurve.columns if 'sum' not in x and x!='forecast_bookings']]"
   ]
  },
  {
   "cell_type": "code",
   "execution_count": 14,
   "metadata": {},
   "outputs": [],
   "source": [
    "IdealCurve['Dprio']=-IdealCurve['Dprio']\n",
    "IdealCurve=IdealCurve.set_index(['Dprio']+downweight_granularity+['downweight'])\n",
    "\n",
    "IdealCurve_average_full=IdealCurve.groupby(level=[0]+[x for x in range(1,len(downweight_granularity)+1)]+[len(downweight_granularity)+1]).sum()\\\n",
    ".groupby(level=[x for x in range(1,len(downweight_granularity)+1)]+[len(downweight_granularity)+1])['forecast_bookings_full'].cumsum().reset_index().rename(columns={'forecast_bookings_full': 'Ideal_average_full'})\n",
    "IdealCurve_average_downweighted=IdealCurve.groupby(level=[0]+[x for x in range(1,len(downweight_granularity)+1)]+[len(downweight_granularity)+1]).sum()\\\n",
    ".groupby(level=[x for x in range(1,len(downweight_granularity)+1)]+[len(downweight_granularity)+1])['forecast_bookings_downweighted'].cumsum().reset_index().rename(columns={'forecast_bookings_downweighted': 'Ideal_average_downweighted'})\n",
    "\n",
    "IdealCurve_average_full['Dprio']=-IdealCurve_average_full['Dprio']\n",
    "IdealCurve_average_downweighted['Dprio']=-IdealCurve_average_downweighted['Dprio']"
   ]
  },
  {
   "cell_type": "code",
   "execution_count": 15,
   "metadata": {},
   "outputs": [],
   "source": [
    "IdealCurve=IdealCurve.reset_index()\n",
    "IdealCurve['Dprio']=-IdealCurve['Dprio']\n",
    "IdealCurve=IdealCurve.set_index(['Dprio']+downweight_granularity+['downweight'])\n",
    "IdealCurve_intermediate_full=IdealCurve.groupby(level=[0]+[x for x in range(1,len(downweight_granularity)+1)]+[len(downweight_granularity)+1]).sum()\\\n",
    ".groupby(level=[x for x in range(1,len(downweight_granularity)+1)]+[len(downweight_granularity)+1])['forecast_bookings_full'].cumsum().reset_index().rename(columns={'forecast_bookings_full': 'Ideal_intermediate_full'})\n",
    "IdealCurve_intermediate_downweighted=IdealCurve.groupby(level=[0]+[x for x in range(1,len(downweight_granularity)+1)]+[len(downweight_granularity)+1]).sum()\\\n",
    ".groupby(level=[x for x in range(1,len(downweight_granularity)+1)]+[len(downweight_granularity)+1])['forecast_bookings_downweighted'].cumsum().reset_index().rename(columns={'forecast_bookings_downweighted': 'Ideal_intermediate_downweighted'})"
   ]
  },
  {
   "cell_type": "code",
   "execution_count": 16,
   "metadata": {},
   "outputs": [],
   "source": [
    "Probability=Probability.merge(IdealCurve_intermediate_full[[x for x in IdealCurve_intermediate_full if x!='downweight']],\n",
    "                              on=['Dprio']+downweight_granularity)\n",
    "\n",
    "Probability=Probability.merge(IdealCurve_intermediate_downweighted[[x for x in IdealCurve_intermediate_downweighted if x!='downweight']],\n",
    "                              on=['Dprio']+downweight_granularity)\n",
    "\n",
    "Probability=Probability.merge(IdealCurve_average_full[[x for x in IdealCurve_average_full if x!='downweight']],\n",
    "                              on=['Dprio']+downweight_granularity)\n",
    "\n",
    "Probability=Probability.merge(IdealCurve_average_downweighted[[x for x in IdealCurve_average_downweighted if x!='downweight']],\n",
    "                              on=['Dprio']+downweight_granularity)"
   ]
  },
  {
   "cell_type": "code",
   "execution_count": 17,
   "metadata": {},
   "outputs": [],
   "source": [
    "Probability.to_csv('Probability.csv',index=False)"
   ]
  },
  {
   "cell_type": "code",
   "execution_count": 18,
   "metadata": {},
   "outputs": [],
   "source": [
    "IdealCurve=IdealCurve_average_full.merge(IdealCurve_average_downweighted,on=['Dprio']+downweight_granularity+['downweight'])\n",
    "IdealCurve=IdealCurve.merge(IdealCurve_intermediate_full,on=['Dprio']+downweight_granularity+['downweight'])\n",
    "IdealCurve=IdealCurve.merge(IdealCurve_intermediate_downweighted,on=['Dprio']+downweight_granularity+['downweight'])"
   ]
  },
  {
   "cell_type": "code",
   "execution_count": 19,
   "metadata": {},
   "outputs": [],
   "source": [
    "IdealCurve['Ideal_lower']=C*IdealCurve['downweight']-poisson.ppf(risk_spoil,IdealCurve['Ideal_intermediate_downweighted'])\n",
    "IdealCurve['Ideal_lower']=IdealCurve['Ideal_lower'].apply(lambda x: 0 if x<0 else x)\n",
    "\n",
    "IdealCurve['Ideal_upper']=C-poisson.ppf(1-risk_spill,IdealCurve['Ideal_intermediate_full'])\n",
    "IdealCurve['Ideal_upper']=IdealCurve['Ideal_upper'].apply(lambda x: C if x>C else x)"
   ]
  },
  {
   "cell_type": "code",
   "execution_count": 20,
   "metadata": {},
   "outputs": [],
   "source": [
    "IdealCurve=IdealCurve[downweight_granularity+['Dprio','Ideal_lower','Ideal_average_downweighted','Ideal_average_full','Ideal_upper']]\n",
    "IdealCurve.to_csv('IdealCurve.csv',index=False)"
   ]
  },
  {
   "cell_type": "code",
   "execution_count": 21,
   "metadata": {},
   "outputs": [],
   "source": [
    "# pick_node=3\n",
    "\n",
    "# fig=plt.figure(1,figsize=(15,8))\n",
    "\n",
    "# plt.plot(IdealCurve.loc[IdealCurve['forecast_node']==pick_node,'Dprio'],\n",
    "# IdealCurve.loc[IdealCurve['forecast_node']==pick_node,'Ideal_average_full'],\n",
    "# color='green',linestyle='--',label='Normal booking curve (LF = 100%)')\n",
    "# plt.plot(IdealCurve.loc[IdealCurve['forecast_node']==pick_node,'Dprio'],\n",
    "# IdealCurve.loc[IdealCurve['forecast_node']==pick_node,'Ideal_average_downweighted'],color='blue',\n",
    "#         linestyle='--',label='Normal booking curve (LF = '+str(downweight*100)+'%)')\n",
    "# plt.plot(IdealCurve.loc[IdealCurve['forecast_node']==pick_node,'Dprio'],\n",
    "# IdealCurve.loc[IdealCurve['forecast_node']==pick_node,'Ideal_lower'],color='orange',\n",
    "#         linestyle='--',label='Steering frontier')\n",
    "# plt.plot(IdealCurve.loc[IdealCurve['forecast_node']==pick_node,'Dprio'],\n",
    "# IdealCurve.loc[IdealCurve['forecast_node']==pick_node,'Ideal_upper'],color='orange')\n",
    "\n",
    "# # plt.fill_between(IdealCurve['forecast_node']==pick_node,'Dprio'],0,\n",
    "# # np.array(bookcurve_lowbound)[range(len(poisson_lambda)-1,-1,-1)],color='orange',alpha=0.25)\n",
    "# # plt.fill_between(range(len(poisson_lambda)),C,np.array(bookcurve_upbound)[range(len(poisson_lambda)-1,-1,-1)],color='orange',alpha=0.25)\n",
    "\n",
    "\n",
    "# plt.axhline(0,linewidth=2,color='black',linestyle=':')\n",
    "# plt.axhline(C,linewidth=2,color='black',linestyle=':')\n",
    "    \n",
    "# plt.xlabel('Days till departure',size=15)\n",
    "# plt.ylabel('Bookings',size=15)\n",
    "# plt.xlim(0,366)\n",
    "\n",
    "# plt.title('Illustration of booking curve steering mechanism',size=20)\n",
    "\n",
    "# plt.legend(prop={'size': 12},bbox_to_anchor=(1.01, 0.95), loc=2, borderaxespad=0.)\n",
    "\n",
    "# # plt.text(365.0/2,np.mean([bookcurve_upbound[250],C]),'Phase-Down Area',fontsize=24,color='orange')\n",
    "# # plt.text(10,np.float(bookcurve_upbound[250])/2,'Ramp-Up Area',fontsize=24,color='orange')\n",
    "\n",
    "# plt.annotate('Capacity',xy=(30,C-1),xytext=(50,C-20),arrowprops=dict(facecolor='black',edgecolor='black',shrink=0.05),\n",
    "#              color='black',fontsize='20')\n",
    "\n",
    "# plt.show()"
   ]
  },
  {
   "cell_type": "code",
   "execution_count": null,
   "metadata": {},
   "outputs": [],
   "source": []
  }
 ],
 "metadata": {
  "kernelspec": {
   "display_name": "Python 3",
   "language": "python",
   "name": "python3"
  },
  "language_info": {
   "codemirror_mode": {
    "name": "ipython",
    "version": 3
   },
   "file_extension": ".py",
   "mimetype": "text/x-python",
   "name": "python",
   "nbconvert_exporter": "python",
   "pygments_lexer": "ipython3",
   "version": "3.7.1"
  }
 },
 "nbformat": 4,
 "nbformat_minor": 2
}
