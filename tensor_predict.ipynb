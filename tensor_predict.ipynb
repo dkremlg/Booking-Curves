{
 "cells": [
  {
   "cell_type": "code",
   "execution_count": 1,
   "metadata": {},
   "outputs": [
    {
     "name": "stderr",
     "output_type": "stream",
     "text": [
      "C:\\Users\\35266\\AppData\\Local\\Continuum\\anaconda3\\lib\\site-packages\\h5py\\__init__.py:72: UserWarning: h5py is running against HDF5 1.10.2 when it was built against 1.10.3, this may cause problems\n",
      "  '{0}.{1}.{2}'.format(*version.hdf5_built_version_tuple)\n"
     ]
    }
   ],
   "source": [
    "import numpy as np  \n",
    "import pandas as pd\n",
    "from pandas import Series, DataFrame\n",
    "import tensorflow as tf\n",
    "from sklearn.model_selection import train_test_split\n",
    "\n",
    "from tensorflow.python.ops import confusion_matrix\n",
    "from tensorflow.python.ops import math_ops\n",
    "\n",
    "import matplotlib.pyplot as plt"
   ]
  },
  {
   "cell_type": "code",
   "execution_count": 2,
   "metadata": {},
   "outputs": [],
   "source": [
    "#Data=pd.read_csv('C:/Users/dkoch/Documents/tensorflow/R_Input.csv')\n",
    "Data=pd.read_csv('R_Input.csv')\n",
    "Data=Data.fillna(0)\n",
    "Data['dprio']=Data['dprio']/(10*np.std(Data['dprio']))\n",
    "\n",
    "Data['dprio0']=Data['dprio']**0\n",
    "Data['dprio2']=Data['dprio']**2\n",
    "Data['dprio3']=Data['dprio']**3\n",
    "Data=Data.rename(columns={'dprio': 'dprio1'})\n",
    "Data['pax_total']=Data['pax_total']-Data['group_pax']\n",
    "Data['pax_total']=Data['pax_total'].apply(lambda x: x if x>0 else 0)\n",
    "\n",
    "direction=pd.get_dummies(Data['direction'],drop_first=True)\n",
    "direction.columns=['direction:'+x for x in direction.columns]\n",
    "\n",
    "whichholiday_left_LUX=pd.get_dummies(Data['whichholiday_left_LUX'],drop_first=True)\n",
    "whichholiday_left_LUX.columns=['whichholiday_left_LUX:'+x for x in whichholiday_left_LUX.columns]\n",
    "\n",
    "whichholiday_right_LUX=pd.get_dummies(Data['whichholiday_right_LUX'],drop_first=True)\n",
    "whichholiday_right_LUX.columns=['whichholiday_right_LUX:'+x for x in whichholiday_right_LUX.columns]\n",
    "\n",
    "Data=pd.concat([Data,direction,whichholiday_left_LUX,whichholiday_right_LUX],axis=1)\n",
    "\n",
    "Data.index=Data['calendar_date']+'_'+Data['direction']\n",
    "\n",
    "Data['weekday']=Data['calendar_date'].apply(lambda x: pd.to_datetime(x).weekday()+1)\n",
    "Data['yearweek']=Data['calendar_date'].apply(lambda x: pd.to_datetime(x).isocalendar()[1])"
   ]
  },
  {
   "cell_type": "code",
   "execution_count": 3,
   "metadata": {},
   "outputs": [],
   "source": [
    "dprio=Data[['dprio'+str(i) for i in range(0,4)]].drop_duplicates().transpose()\n",
    "dprio.columns=range(365,-1,-1)\n",
    "dprio=dprio[[x for x  in range(0,366)]]\n",
    "\n",
    "X_data=Data.drop_duplicates(subset=['calendar_date','direction'])[[x for x in Data.columns if 'direction:' in x]\\\n",
    "+['weekday','yearweek']\\\n",
    "+[x for x in Data.columns if 'whichholiday_left_LUX:' in x]\\\n",
    "+[x for x in Data.columns if 'whichholiday_right_LUX:' in x]\\\n",
    "+['holiday_from_left_LUX','holiday_from_right_LUX','holiday_to_left_LUX','holiday_to_right_LUX']]"
   ]
  },
  {
   "cell_type": "code",
   "execution_count": 4,
   "metadata": {},
   "outputs": [],
   "source": [
    "X_data=X_data[['direction:O','weekday','yearweek',\n",
    "'holiday_from_left_LUX','holiday_from_right_LUX','holiday_to_left_LUX','holiday_to_right_LUX']]\n",
    "\n",
    "Data['concat']=Data['calendar_date']+'_'+Data['direction']\n",
    "y_data=Data[['concat','dprio1','pax_total']].pivot(index='concat',columns='dprio1',values='pax_total')"
   ]
  },
  {
   "cell_type": "code",
   "execution_count": 5,
   "metadata": {},
   "outputs": [],
   "source": [
    "X_test=X_data.loc[[x for x in X_data.index if '2019' in x],:]\n",
    "X_test=X_test.values\n",
    "dprio=dprio.values"
   ]
  },
  {
   "cell_type": "code",
   "execution_count": 6,
   "metadata": {},
   "outputs": [
    {
     "name": "stdout",
     "output_type": "stream",
     "text": [
      "WARNING:tensorflow:From C:\\Users\\35266\\AppData\\Local\\Continuum\\anaconda3\\lib\\site-packages\\tensorflow\\python\\training\\saver.py:1266: checkpoint_exists (from tensorflow.python.training.checkpoint_management) is deprecated and will be removed in a future version.\n",
      "Instructions for updating:\n",
      "Use standard file APIs to check for files with this prefix.\n",
      "INFO:tensorflow:Restoring parameters from ./mymodel\n"
     ]
    }
   ],
   "source": [
    "sess=tf.Session()\n",
    "saver=tf.train.import_meta_graph('mymodel.meta')\n",
    "saver.restore(sess, tf.train.latest_checkpoint('./'))"
   ]
  },
  {
   "cell_type": "code",
   "execution_count": 7,
   "metadata": {},
   "outputs": [],
   "source": [
    "graph = tf.get_default_graph()"
   ]
  },
  {
   "cell_type": "code",
   "execution_count": 8,
   "metadata": {},
   "outputs": [
    {
     "data": {
      "text/plain": [
       "['Variable',\n",
       " 'Variable/Assign',\n",
       " 'Variable/read',\n",
       " 'Variable_1',\n",
       " 'Variable_1/Assign',\n",
       " 'Variable_1/read',\n",
       " 'Variable_2',\n",
       " 'Variable_2/Assign',\n",
       " 'Variable_2/read',\n",
       " 'Variable_3',\n",
       " 'Variable_3/Assign',\n",
       " 'Variable_3/read',\n",
       " 'GradientDescent/update_Variable/ApplyGradientDescent',\n",
       " 'GradientDescent/update_Variable_1/ApplyGradientDescent',\n",
       " 'GradientDescent/update_Variable_2/ApplyGradientDescent',\n",
       " 'GradientDescent/update_Variable_3/ApplyGradientDescent']"
      ]
     },
     "execution_count": 8,
     "metadata": {},
     "output_type": "execute_result"
    }
   ],
   "source": [
    "[n.name for n in tf.get_default_graph().as_graph_def().node if 'Variable' in n.name]"
   ]
  },
  {
   "cell_type": "code",
   "execution_count": 9,
   "metadata": {},
   "outputs": [],
   "source": [
    "X = graph.get_tensor_by_name(\"Placeholder:0\")\n",
    "Z = graph.get_tensor_by_name(\"Placeholder_1:0\")"
   ]
  },
  {
   "cell_type": "code",
   "execution_count": 10,
   "metadata": {},
   "outputs": [],
   "source": [
    "feed_dict={X:X_test,Z:dprio.reshape(4,366)}"
   ]
  },
  {
   "cell_type": "code",
   "execution_count": 11,
   "metadata": {},
   "outputs": [],
   "source": [
    "w1 = graph.get_tensor_by_name(\"Variable:0\")\n",
    "w2 = graph.get_tensor_by_name(\"Variable_1:0\")\n",
    "b1 = graph.get_tensor_by_name(\"Variable_2:0\")\n",
    "b2 = graph.get_tensor_by_name(\"Variable_3:0\")"
   ]
  },
  {
   "cell_type": "code",
   "execution_count": 12,
   "metadata": {},
   "outputs": [],
   "source": [
    "layer_1=sess.run(tf.nn.sigmoid(tf.add(tf.matmul(X, w1), b1)),feed_dict)\n",
    "layer_2=sess.run(tf.add(tf.matmul(layer_1, w2), b2),feed_dict)\n",
    "out_layer=sess.run(tf.exp(tf.matmul(layer_2, Z)),feed_dict)"
   ]
  },
  {
   "cell_type": "code",
   "execution_count": 13,
   "metadata": {},
   "outputs": [
    {
     "data": {
      "text/plain": [
       "array([[0.00703848, 0.00699848, 0.00695869, ..., 0.00081396, 0.00080904,\n",
       "        0.00080416],\n",
       "       [0.00689793, 0.00685882, 0.00681992, ..., 0.00080433, 0.00079951,\n",
       "        0.00079471],\n",
       "       [0.02901513, 0.02891239, 0.02881013, ..., 0.01131133, 0.01129532,\n",
       "        0.01127944],\n",
       "       ...,\n",
       "       [0.09666863, 0.09639315, 0.09611911, ..., 0.05072637, 0.05068219,\n",
       "        0.05063825],\n",
       "       [0.00691603, 0.00688398, 0.00685206, ..., 0.00111846, 0.00111267,\n",
       "        0.0011069 ],\n",
       "       [0.0069153 , 0.00688325, 0.00685133, ..., 0.00111826, 0.00111246,\n",
       "        0.0011067 ]], dtype=float32)"
      ]
     },
     "execution_count": 13,
     "metadata": {},
     "output_type": "execute_result"
    }
   ],
   "source": [
    "out_layer"
   ]
  },
  {
   "cell_type": "code",
   "execution_count": null,
   "metadata": {},
   "outputs": [],
   "source": []
  }
 ],
 "metadata": {
  "kernelspec": {
   "display_name": "Python 3",
   "language": "python",
   "name": "python3"
  },
  "language_info": {
   "codemirror_mode": {
    "name": "ipython",
    "version": 3
   },
   "file_extension": ".py",
   "mimetype": "text/x-python",
   "name": "python",
   "nbconvert_exporter": "python",
   "pygments_lexer": "ipython3",
   "version": "3.7.1"
  }
 },
 "nbformat": 4,
 "nbformat_minor": 2
}
