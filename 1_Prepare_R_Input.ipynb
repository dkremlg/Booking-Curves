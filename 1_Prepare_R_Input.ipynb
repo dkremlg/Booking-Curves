{
 "cells": [
  {
   "cell_type": "code",
   "execution_count": 605,
   "metadata": {},
   "outputs": [],
   "source": [
    "import os\n",
    "from os import environ\n",
    "\n",
    "import requests\n",
    "import io\n",
    "\n",
    "import datetime\n",
    "\n",
    "import numpy as np\n",
    "import pandas as pd\n",
    "\n",
    "from pandas import Series\n",
    "from pandas import DataFrame\n",
    "\n",
    "import matplotlib.pyplot as plt"
   ]
  },
  {
   "cell_type": "code",
   "execution_count": 606,
   "metadata": {},
   "outputs": [],
   "source": [
    "#route = environ['route']\n",
    "destination='ACE'\n",
    "path='/home/ubuntu/Data/'\n",
    "downweight_granularity=['FltNum','Direction','dtime','dday','month']"
   ]
  },
  {
   "cell_type": "code",
   "execution_count": 607,
   "metadata": {},
   "outputs": [],
   "source": [
    "def map_interval(x):\n",
    "    if x>=350:\n",
    "        return '350'\n",
    "    elif x>=300:\n",
    "        return '300'\n",
    "    elif x>=250:\n",
    "        return '250'\n",
    "    elif x>=200:\n",
    "        return '200'\n",
    "    elif x>=150:\n",
    "        return '150'\n",
    "    elif x>=100:\n",
    "        return '100'\n",
    "    else:\n",
    "        return '0-99'"
   ]
  },
  {
   "cell_type": "markdown",
   "metadata": {},
   "source": [
    "# Data Import"
   ]
  },
  {
   "cell_type": "code",
   "execution_count": 608,
   "metadata": {},
   "outputs": [],
   "source": [
    "Data=pd.read_csv(path+'SQLsnippets_tours/SQLsnippet_'+destination+'_allprod.csv',sep=',')\n",
    "Data['calendar_date']=pd.to_datetime(Data['calendar_date'])\n",
    "Data['pax_total']=Data['pax_total'].fillna(0)\n",
    "Data['group_pax']=Data['group_pax'].fillna(0)\n",
    "#Capa=pd.read_csv(path+'SQLsnippets_tours/SQLsnippet_'+destination+'_capa.csv',sep=',')\n",
    "#Capa['calendar_date']=pd.to_datetime(Capa['calendar_date'])\n",
    "\n",
    "Data=Data[[x for x in Data.columns if x!='dprio']+['dprio']]\n",
    "\n",
    "AllFlights=Data[['calendar_date','dep_time','flight_number','airport_arrival','airport_depart']].drop_duplicates()\n",
    "AllFlights.index=range(AllFlights.shape[0])\n",
    "AllTime=[x for x in range(0,367)]\n",
    "\n",
    "AllTime=Series(AllTime*AllFlights.shape[0])\n",
    "\n",
    "AllFlights=AllFlights.loc[np.repeat(AllFlights.index,len(AllTime)/AllFlights.shape[0]),:]\n",
    "AllFlights.index=range(AllFlights.shape[0])\n",
    "\n",
    "AllFlights=pd.concat([AllFlights,Series([0]*len(AllTime)),Series([0]*len(AllTime)),AllTime],ignore_index=True,axis=1)\n",
    "\n",
    "AllFlights.columns=Data.columns\n",
    "\n",
    "Data=pd.concat([Data,AllFlights])\n",
    "\n",
    "Data=Data.drop_duplicates(subset=['calendar_date','flight_number','dep_time','dprio'])\n",
    "\n",
    "Data=Data.groupby(['calendar_date','airport_depart','airport_arrival','dprio'])[['pax_total','group_pax']].sum().reset_index()\n",
    "\n",
    "Data['diff']=(Data['calendar_date']-pd.to_datetime(datetime.datetime.today().strftime('%Y-%m-%d'))).apply(lambda x: x.days)\n",
    "\n",
    "Data=Data.loc[Data['dprio']>Data['diff'],:]\n",
    "\n",
    "Data=Data[[x for x in Data.columns if x!='diff']]\n",
    "\n",
    "Data=Data[['calendar_date','airport_depart','airport_arrival','dprio','pax_total','group_pax']]\\\n",
    ".sort_values(by=['calendar_date','dprio'],ascending=[True,False])\n",
    "\n",
    "Data=Data.set_index(['calendar_date','airport_depart','airport_arrival','dprio'])\n",
    "\n",
    "Data=Data.groupby(level=[0,1,2]).diff().reset_index()\n",
    "Data=Data.dropna(how='any')"
   ]
  },
  {
   "cell_type": "code",
   "execution_count": 631,
   "metadata": {},
   "outputs": [],
   "source": [
    "Holiday_LUX=pd.read_csv('/home/ubuntu/Data/holiday/LUX-LUX_special_days.csv',encoding=\"ISO-8859-1\")\n",
    "Holiday_SCN=pd.read_csv('/home/ubuntu/Data/holiday/LUX-SCN_special_days.csv',encoding=\"ISO-8859-1\")\n",
    "Holiday_SXB=pd.read_csv('/home/ubuntu/Data/holiday/LUX-SXB_special_days.csv',encoding=\"ISO-8859-1\")\n",
    "Holiday_BRU=pd.read_csv('/home/ubuntu/Data/holiday/LUX-BRU_special_days.csv',encoding=\"ISO-8859-1\")"
   ]
  },
  {
   "cell_type": "code",
   "execution_count": 604,
   "metadata": {},
   "outputs": [
    {
     "data": {
      "text/plain": [
       "Timedelta('363 days 00:00:00')"
      ]
     },
     "execution_count": 604,
     "metadata": {},
     "output_type": "execute_result"
    }
   ],
   "source": [
    "pd.to_datetime('2020-07-23')-pd.to_datetime('2019-07-26')"
   ]
  },
  {
   "cell_type": "code",
   "execution_count": null,
   "metadata": {},
   "outputs": [],
   "source": []
  },
  {
   "cell_type": "code",
   "execution_count": null,
   "metadata": {},
   "outputs": [],
   "source": []
  },
  {
   "cell_type": "code",
   "execution_count": null,
   "metadata": {},
   "outputs": [],
   "source": [
    "Data=Data.groupby(['calendar_date','airport_depart','airport_arrival','dprio'])[['pax_total','group_pax']].sum().reset_index()"
   ]
  },
  {
   "cell_type": "code",
   "execution_count": null,
   "metadata": {},
   "outputs": [],
   "source": [
    "Data['pax_total'].unique()"
   ]
  },
  {
   "cell_type": "code",
   "execution_count": null,
   "metadata": {},
   "outputs": [],
   "source": [
    "\n",
    "\n",
    "Data=Data.loc[Data['calendar_date']<=pd.to_datetime('2019-07-26'),:]\n",
    "\n",
    "Data['dprio_min']=Data.groupby(['calendar_date','flight_number','dep_time'])['dprio'].transform('min')\n",
    "Data['dprio_max']=Data.groupby(['calendar_date','flight_number','dep_time'])['dprio'].transform('max')\n",
    "Data['sum_pax']=Data.groupby(['calendar_date','flight_number','dep_time'])['pax_total'].transform('sum')\n",
    "\n",
    "Data['n_flight']=Data.groupby(['calendar_date','dprio','airport_arrival','airport_depart'])['dep_time'].transform('size')"
   ]
  },
  {
   "cell_type": "code",
   "execution_count": null,
   "metadata": {},
   "outputs": [],
   "source": [
    "Data.loc[(Data['dprio']==0)&(Data['sum_pax']>0)&(Data['n_flight']==2),:]"
   ]
  },
  {
   "cell_type": "code",
   "execution_count": null,
   "metadata": {},
   "outputs": [],
   "source": [
    "Data['n_flight']"
   ]
  },
  {
   "cell_type": "code",
   "execution_count": null,
   "metadata": {},
   "outputs": [],
   "source": [
    "Data.loc[(Data['calendar_date']=='2017-03-30')&(Data['airport_arrival']=='ACE')&(Data['airport_depart']=='LUX')\\\n",
    "         &(Data['dprio']==232),:].sort_values(by='dprio')"
   ]
  },
  {
   "cell_type": "code",
   "execution_count": null,
   "metadata": {},
   "outputs": [],
   "source": [
    "Data.loc[(Data['calendar_date']=='2017-03-30')&(Data['airport_arrival']=='ACE')&(Data['airport_depart']=='LUX'),:].sort_values(by='dprio')"
   ]
  },
  {
   "cell_type": "code",
   "execution_count": null,
   "metadata": {},
   "outputs": [],
   "source": [
    "Data=Data.merge(Data.loc[(Data['dprio']==Data['dprio_min'])&(Data['pax_total']>0),['calendar_date','flight_number','dep_time']],\n",
    "on=['calendar_date','flight_number','dep_time'])"
   ]
  },
  {
   "cell_type": "code",
   "execution_count": null,
   "metadata": {},
   "outputs": [],
   "source": [
    "Data.shape"
   ]
  },
  {
   "cell_type": "code",
   "execution_count": null,
   "metadata": {},
   "outputs": [],
   "source": [
    "Data.groupby(['n_flight'])['calendar_date'].size()"
   ]
  },
  {
   "cell_type": "code",
   "execution_count": null,
   "metadata": {},
   "outputs": [],
   "source": [
    "Data.groupby(['calendar_date','flight_number','dep_time'])['n_flight'].apply(lambda x: len(set(x)))"
   ]
  },
  {
   "cell_type": "code",
   "execution_count": null,
   "metadata": {},
   "outputs": [],
   "source": [
    "Data.loc[(Data['calendar_date']=='2019-07-21')&(Data['flight_number']=='LG-0742')&(Data['n_flight']==1),:].sort_values('dprio')"
   ]
  },
  {
   "cell_type": "code",
   "execution_count": null,
   "metadata": {},
   "outputs": [],
   "source": [
    "Data[['calendar_date','flight_number','dep_time']].drop_duplicates().shape"
   ]
  },
  {
   "cell_type": "code",
   "execution_count": null,
   "metadata": {},
   "outputs": [],
   "source": [
    "Data.loc[Data['dprio_min']!=0,['calendar_date','flight_number','dep_time']].drop_duplicates().shape"
   ]
  },
  {
   "cell_type": "code",
   "execution_count": null,
   "metadata": {},
   "outputs": [],
   "source": [
    "Data.loc[(Data['dprio_min']==0)&(Data['sum_pax']==0),['calendar_date','flight_number','dep_time']].drop_duplicates().shape"
   ]
  },
  {
   "cell_type": "code",
   "execution_count": null,
   "metadata": {},
   "outputs": [],
   "source": [
    "Data=Data.loc[(Data['dprio_min']==0)&(Data['sum_pax']>0),:]\n",
    "Data[['calendar_date','flight_number','dep_time']].drop_duplicates().shape"
   ]
  },
  {
   "cell_type": "code",
   "execution_count": null,
   "metadata": {},
   "outputs": [],
   "source": [
    "Data=Data[['calendar_date','flight_number','dep_time','dprio_max']]\\\n",
    ".drop_duplicates(subset=['calendar_date','flight_number','dep_time'])\n",
    "Data['Interval']=Data['dprio_max'].transform(lambda x: map_interval(x))"
   ]
  },
  {
   "cell_type": "code",
   "execution_count": null,
   "metadata": {},
   "outputs": [],
   "source": [
    "Data.groupby('Interval')['Interval'].size()"
   ]
  },
  {
   "cell_type": "code",
   "execution_count": null,
   "metadata": {},
   "outputs": [],
   "source": [
    "Data=Data.loc[Data['dprio_min']==0,:]"
   ]
  },
  {
   "cell_type": "code",
   "execution_count": null,
   "metadata": {},
   "outputs": [],
   "source": [
    "Data.shape"
   ]
  },
  {
   "cell_type": "code",
   "execution_count": null,
   "metadata": {},
   "outputs": [],
   "source": [
    "Data=Data.merge(Capa[['calendar_date','dprio','flight_number','dep_time','capacity']],\n",
    "on=['calendar_date','dprio','flight_number','dep_time'],how='left')"
   ]
  },
  {
   "cell_type": "code",
   "execution_count": null,
   "metadata": {},
   "outputs": [],
   "source": [
    "Data.shape"
   ]
  },
  {
   "cell_type": "code",
   "execution_count": null,
   "metadata": {},
   "outputs": [],
   "source": [
    "Data.loc[(Data['calendar_date']==pd.to_datetime('2018-12-16'))&(Data['flight_number']=='LG-0750'),:].sort_values(by='dprio')"
   ]
  },
  {
   "cell_type": "code",
   "execution_count": null,
   "metadata": {},
   "outputs": [],
   "source": [
    "test=Data.loc[pd.isnull(Data['capacity']),:]"
   ]
  },
  {
   "cell_type": "code",
   "execution_count": null,
   "metadata": {},
   "outputs": [],
   "source": [
    "test['dprio_min_2']=test.groupby(['calendar_date','flight_number'])['dprio'].transform('min')"
   ]
  },
  {
   "cell_type": "code",
   "execution_count": null,
   "metadata": {},
   "outputs": [],
   "source": [
    "test.loc[test['dprio_min_2']==40,:]"
   ]
  },
  {
   "cell_type": "code",
   "execution_count": null,
   "metadata": {},
   "outputs": [],
   "source": [
    "Data.loc[Data['dprio_min']==24,'flight_number'].unique()"
   ]
  },
  {
   "cell_type": "code",
   "execution_count": null,
   "metadata": {},
   "outputs": [],
   "source": [
    "Data.loc[(Data['dprio_min']==24)&(Data['flight_number']=='LG-0741'),:]"
   ]
  },
  {
   "cell_type": "code",
   "execution_count": null,
   "metadata": {},
   "outputs": [],
   "source": [
    "test.loc[pd.isnull(test['capacity']),:]"
   ]
  },
  {
   "cell_type": "code",
   "execution_count": null,
   "metadata": {},
   "outputs": [],
   "source": [
    "test.loc[pd.isnull(test['capacity']),['calendar_date','dprio']].drop_duplicates()['calendar_date'].unique()"
   ]
  },
  {
   "cell_type": "code",
   "execution_count": null,
   "metadata": {},
   "outputs": [],
   "source": [
    "test.loc[(test['calendar_date']=='2017-01-01')&(test['flight_number']=='LG-0183'),:].sort_values('dprio')"
   ]
  },
  {
   "cell_type": "code",
   "execution_count": null,
   "metadata": {},
   "outputs": [],
   "source": [
    "test.loc[pd.isnull(test['capacity']),:]"
   ]
  },
  {
   "cell_type": "code",
   "execution_count": null,
   "metadata": {},
   "outputs": [],
   "source": [
    "\n",
    "\n",
    "Data.columns=['extraction_date','calendar_date','dep_time','flight_number','airport_arrival',\n",
    "              'airport_depart','pax_total','group_pax','cabin_capacity']\n",
    "\n",
    "Data=Data.dropna(how='any')\n",
    "Data.index=range(Data.shape[0])\n",
    "Data=Data[['airport_depart','airport_arrival','flight_number','dep_time','extraction_date', 'calendar_date',\n",
    "     'pax_total','group_pax','cabin_capacity']]\n",
    "Data=Data.rename(columns={'airport_depart': 'SegFrom', 'airport_arrival': 'SegTo', 'flight_number': 'FltNum', \n",
    "'dep_time': 'DepTime', 'extraction_date': 'IssueDate', 'calendar_date': 'DepDate',\n",
    "'pax_total': 'NumPax', 'group_pax': 'Group pax', 'cabin_capacity': 'Cabin Capacity'})\n",
    "\n",
    "Data['IssueDate']=Data['IssueDate'].apply(lambda x: str(x)[6:8]+'/'+str(x)[4:6]+'/'+str(x)[0:4])\n",
    "Data['DepDate']=Data['DepDate'].apply(lambda x: str(x)[6:8]+'/'+str(x)[4:6]+'/'+str(x)[0:4])\n",
    "\n",
    "# CHANGE FORMAT\n",
    "\n",
    "Data=Data.loc[Data['FltNum'].apply(lambda x: len(x))==7,:]\n",
    "Data['FltNum']=Data['FltNum'].apply(lambda x: str(str(x).split('-')[1]))\n",
    "Data['NumPax']=Data['NumPax'].apply(lambda x: float(str(x).split(' ')[0]))\n",
    "Data['Group pax']=Data['Group pax'].apply(lambda x: float(str(x).split(' ')[0]))\n",
    "Data['Cabin Capacity']=Data['Cabin Capacity'].apply(lambda x: float(str(x).split(' ')[0]))\n",
    "Data['DepDayMonth']=Data['DepDate'].apply(lambda x: str(x).split('/')[0]+'/'+str(x).split('/')[1])\n",
    "Data['DepMonth']=Data['DepDate'].apply(lambda x: str(x).split('/')[1]+'/'+str(x).split('/')[2])\n",
    "\n",
    "Data=Data.loc[Data['DepTime'].apply(lambda x: len(str(x))>=5),:]\n",
    "\n",
    "# MAP DESTINATION COMBINATION TO INBOUND OR OUTBOUND\n",
    "\n",
    "Map_AirportsToDirection=DataFrame([[route.split('-')[0],route.split('-')[1]],\n",
    "[route.split('-')[1],route.split('-')[0]],['O','I']]).transpose()\n",
    "Map_AirportsToDirection.columns=['SegFrom','SegTo','Direction']\n",
    "Data=Data.merge(Map_AirportsToDirection,on=['SegTo','SegFrom'])"
   ]
  },
  {
   "cell_type": "markdown",
   "metadata": {},
   "source": [
    "### Change format of remaining columns"
   ]
  },
  {
   "cell_type": "code",
   "execution_count": null,
   "metadata": {},
   "outputs": [],
   "source": [
    "IssueDate=Data['IssueDate'].unique().tolist()\n",
    "IssueDate_Map=DataFrame([IssueDate,IssueDate]).transpose()\n",
    "IssueDate_Map.columns=['IssueDate','NewFormat']\n",
    "IssueDate_Map['NewFormat']=IssueDate_Map['NewFormat'].apply(lambda x: pd.to_datetime(x.split(' ')[0],format='%d/%m/%Y'))\n",
    "\n",
    "Data=Data.merge(IssueDate_Map,on=['IssueDate'])\n",
    "Data=Data[[x for x in Data.columns if x!='IssueDate']]\n",
    "Data=Data.rename(columns={'NewFormat': 'IssueDate'})\n",
    "\n",
    "#######################################\n",
    "\n",
    "DepartureDate=Data['DepDate'].unique().tolist()\n",
    "DepartureDate_Map=DataFrame([DepartureDate,DepartureDate]).transpose()\n",
    "DepartureDate_Map.columns=['DepDate','NewFormat']\n",
    "DepartureDate_Map['NewFormat']=DepartureDate_Map['NewFormat'].apply(lambda x: pd.to_datetime(x.split(' ')[0],format='%d/%m/%Y'))\n",
    "DepartureDate_Map['yday']=DepartureDate_Map['NewFormat'].apply(lambda x: x.timetuple().tm_yday)\n",
    "\n",
    "DepartureDate_Map['dday_num']=DepartureDate_Map['NewFormat'].apply(lambda x: x.weekday())\n",
    "Weekday_Map=DataFrame([[x for x in range(0,8)],['Monday','Tuesday','Wednesday','Thursday','Friday','Saturday','Sunday']]).transpose()\n",
    "Weekday_Map.columns=['dday_num','dday']\n",
    "Weekday_Map['dday_num']=Weekday_Map['dday_num'].astype('int')\n",
    "\n",
    "DepartureDate_Map=DepartureDate_Map.merge(Weekday_Map,on='dday_num')\n",
    "DepartureDate_Map=DepartureDate_Map[[x for x in DepartureDate_Map if x!='dday_num']]\n",
    "DepartureDate_Map=DepartureDate_Map.sort_values(by='NewFormat')\n",
    "\n",
    "Data=Data.merge(DepartureDate_Map,on=['DepDate'])\n",
    "Data=Data[[x for x in Data.columns if x!='DepDate']]\n",
    "Data=Data.rename(columns={'NewFormat': 'DepDate'})\n",
    "\n",
    "#######################################\n",
    "\n",
    "Data['DepTime']=Data['DepTime'].astype('str')\n",
    "Data['DepTime']=Data['DepTime'].apply(lambda x: '0'+x[0]+':'+x[1:3]+':00' if len(x)==5 else x[0:2]+':'+x[2:4]+':00')\n",
    "DepartureTime=Data['DepTime'].unique().tolist()\n",
    "DepartureTime_Map=DataFrame([DepartureTime,[pd.to_datetime(x,format='%H:%M:%S') for x in DepartureTime]]).transpose()\n",
    "DepartureTime_Map.columns=['DepTime','NewFormat']\n",
    "DepartureTime_Map['dtime']=DepartureTime_Map['NewFormat'].apply(lambda x: (x-datetime.datetime.combine(x.date(),datetime.time(0,0))).seconds/60)\n",
    "\n",
    "Data=Data.merge(DepartureTime_Map,on=['DepTime'])\n",
    "Data=Data[[x for x in Data.columns if x!='DepTime']]\n",
    "Data=Data.rename(columns={'NewFormat': 'DepTime'})\n",
    "\n",
    "#######################################\n",
    "\n",
    "Data['month']=Data['DepDate'].apply(lambda x: int(x.month))\n",
    "\n",
    "#######################################\n",
    "\n",
    "Data['Dprio']=(Data['DepDate']-Data['IssueDate']).apply(lambda x: float(x.days))\n",
    "Data=Data.loc[(Data['Dprio']>0)&(Data['Dprio']<=366)&(Data['NumPax']>0)&(~pd.isnull(Data['DepTime'])),:]\n",
    "\n",
    "Data=Data.sort_values(by=['DepDate','FltNum','dtime','Dprio'],ascending=[True,True,True,False])\n",
    "\n",
    "# CAPACITY SMOOTHING\n",
    "\n",
    "#Data.loc[Data['Cabin Capacity']>70,'Cabin Capacity']=67"
   ]
  },
  {
   "cell_type": "code",
   "execution_count": null,
   "metadata": {},
   "outputs": [],
   "source": [
    "# Data=Data.sort_values(by=[])\n",
    "# Data=Data.drop_duplicates(subset=['extraction_date','calendar_date','flight_number','airport_arrival','airport_depart','dep_time'])"
   ]
  },
  {
   "cell_type": "markdown",
   "metadata": {},
   "source": [
    "### Deduct single departure time"
   ]
  },
  {
   "cell_type": "code",
   "execution_count": null,
   "metadata": {},
   "outputs": [],
   "source": [
    "DprioMin=Data.groupby(['DepDate','FltNum'])['Dprio'].min().reset_index()\n",
    "DprioMin=DprioMin.rename(columns={'Dprio': 'Dprio_min'})\n",
    "\n",
    "Data=Data.merge(DprioMin,on=['DepDate','FltNum'])\n",
    "\n",
    "NumPaxMax=Data.loc[Data['Dprio']==Data['Dprio_min'],:].groupby(['FltNum','DepDate'])['NumPax'].max().reset_index()\n",
    "NumPaxMax=NumPaxMax.rename(columns={'NumPax': 'NumPax_max'})\n",
    "\n",
    "Data=Data.merge(NumPaxMax,on=['DepDate','FltNum'])\n",
    "\n",
    "Map_FltnumDeptime=Data.loc[(Data['Dprio']==Data['Dprio_min'])&(Data['NumPax']==Data['NumPax_max']),['DepDate','FltNum','dtime']].drop_duplicates()\n",
    "\n",
    "Map_FltnumDeptime=Map_FltnumDeptime.rename(columns={'dtime': 'dtime_new'})\n",
    "\n",
    "Data=Data.merge(Map_FltnumDeptime,on=['DepDate','FltNum'])\n",
    "\n",
    "Data['dtime']=Data['dtime_new']\n",
    "Data=Data[[x for x in Data.columns if x!='dtime_new' and x!='Dprio_min' and x!='NumPax_max']]"
   ]
  },
  {
   "cell_type": "markdown",
   "metadata": {},
   "source": [
    "# Cabin Capacity"
   ]
  },
  {
   "cell_type": "code",
   "execution_count": null,
   "metadata": {},
   "outputs": [],
   "source": [
    "Capacity=Data[['DepDate','FltNum','dtime','Dprio','Cabin Capacity']].drop_duplicates().copy()\n",
    "\n",
    "intermediate=Capacity.groupby(['DepDate','FltNum','dtime'])['Dprio'].min().reset_index().rename(columns={'Dprio': 'Dprio_min'})\n",
    "intermediate['DepDate']=intermediate['DepDate'].apply(lambda x: pd.to_datetime(x))\n",
    "Capacity['DepDate']=Capacity['DepDate'].apply(lambda x: pd.to_datetime(x))\n",
    "\n",
    "Capacity_smooth=Capacity.merge(intermediate[[x for x in intermediate.columns if x!='Cabin Capacity']],\n",
    "on=['DepDate','FltNum','dtime'])\n",
    "Capacity_smooth=Capacity_smooth.loc[Capacity_smooth['Dprio']==Capacity_smooth['Dprio_min'],[x for x in Capacity_smooth.columns if 'Dprio' not in x]]\n",
    "\n",
    "Dropdown_comb=Data[['DepDate','FltNum','dtime']].drop_duplicates()\n",
    "Dropdown_comb.index=range(Dropdown_comb.shape[0])\n",
    "Dprio_all=Data['Dprio'].unique().tolist()\n",
    "\n",
    "Dropdown_comb=Dropdown_comb.loc[np.repeat(Dropdown_comb.index,len(Dprio_all)),:]\n",
    "Dropdown_comb.index=range(Dropdown_comb.shape[0])\n",
    "\n",
    "Dropdown_comb=pd.concat([Dropdown_comb,Series(Dprio_all*Dropdown_comb.drop_duplicates().shape[0])],axis=1)\n",
    "Dropdown_comb=Dropdown_comb.rename(columns={0: 'Dprio'})\n",
    "\n",
    "Dropdown_comb['DepDate']=Dropdown_comb['DepDate'].apply(lambda x: pd.to_datetime(x))\n",
    "Capacity['DepDate']=Capacity['DepDate'].apply(lambda x: pd.to_datetime(x))\n",
    "\n",
    "Dropdown_comb=Dropdown_comb.merge(Capacity,on=['DepDate','FltNum','dtime','Dprio'],how='left')\n",
    "Dropdown_comb=Dropdown_comb.merge(Capacity_smooth.rename(columns={'Cabin Capacity': 'C_smooth'}),on=['DepDate','FltNum','dtime'])\n",
    "\n",
    "Dropdown_comb['Cabin Capacity']=Dropdown_comb[['Cabin Capacity','C_smooth']].apply(lambda x: x[1] if pd.isnull(x[0]) else x[0],axis=1)\n",
    "\n",
    "Dropdown_comb=Dropdown_comb[[x for x in Dropdown_comb.columns if x!='C_smooth']]\n",
    "\n",
    "deptime=[str(x/60).split('.')[0]+':'+str(round(float('0.'+str(x/60).split('.')[1])*60)) for x in Dropdown_comb['dtime'].unique()]\n",
    "deptime=[x+'0' if len(x.split(':')[1])==1 else x for x in deptime]\n",
    "deptime=['0'+x if len(x.split(':')[0])==1 else x for x in deptime]\n",
    "\n",
    "Map_DepTime=DataFrame([Capacity['dtime'].unique(),[x+'0' if len(x.split(':')[1])==1 else x for x in deptime]]).transpose()\n",
    "Map_DepTime.columns=['dtime','deptime']\n",
    "Map_DepTime['dtime']=Map_DepTime['dtime'].astype('int')\n",
    "\n",
    "Dropdown_comb=Dropdown_comb.merge(Map_DepTime,on='dtime')\n",
    "Dropdown_comb['dtime']=Dropdown_comb['deptime']\n",
    "Dropdown_comb=Dropdown_comb[[x for x in Dropdown_comb.columns if x!='deptime']]"
   ]
  },
  {
   "cell_type": "markdown",
   "metadata": {},
   "source": [
    "# Pax Data"
   ]
  },
  {
   "cell_type": "code",
   "execution_count": null,
   "metadata": {},
   "outputs": [],
   "source": [
    "Pax=Data.groupby(['DepDate','Dprio','FltNum','dtime','yday','Direction','month','dday'])['NumPax'].sum().reset_index()\n",
    "Pax['Dprio_min']=Pax.groupby(['DepDate','FltNum','dtime','yday','Direction','month','dday'])['Dprio'].transform('min')\n",
    "\n",
    "#####################################################################################\n",
    "\n",
    "Data_NoObs=Pax.loc[:,['DepDate','FltNum','dtime','yday','Direction','month','dday']].drop_duplicates().copy()\n",
    "\n",
    "distinct_flights=Data_NoObs.shape[0]\n",
    "Data_NoObs.index=range(Data_NoObs.shape[0])\n",
    "Data_NoObs=Data_NoObs.iloc[np.repeat([x for x in Data_NoObs.index],365),:]\n",
    "\n",
    "Data_NoObs['Dprio']=[x for x in range(1,366)]*distinct_flights\n",
    "Data_NoObs['NumPax']=0\n",
    "\n",
    "Data_NoObs=Data_NoObs.merge(Pax[['DepDate','FltNum','dtime','yday','Direction','month','dday','Dprio_min']].drop_duplicates(),\n",
    "                           on=['DepDate','FltNum','dtime','yday','Direction','month','dday'])\n",
    "\n",
    "Data_NoObs=Data_NoObs.loc[Data_NoObs['Dprio']>=Data_NoObs['Dprio_min'],:]\n",
    "Pax=pd.concat([Pax,Data_NoObs])\n",
    "Pax=Pax.drop_duplicates(subset=['DepDate','Dprio','FltNum','dtime','yday','Direction','month','dday'])\n",
    "Pax=Pax[[x for x in Pax.columns if '_min' not in x]]\n",
    "Data_NoObs=Data_NoObs[[x for x in Data_NoObs.columns if '_min' not in x]]\n",
    "\n",
    "#####################################################################################\n",
    "\n",
    "Pax=Pax.sort_values(by=['DepDate','FltNum','dtime','Dprio'],ascending=[True,True,True,False])\n",
    "Pax=Pax.set_index(['DepDate','Dprio','FltNum','dtime','yday','Direction','month','dday'])\n",
    "\n",
    "Pax=Pax.groupby(level=[0,2,3,4,5,6,7]).diff().reset_index()\n",
    "Pax=Pax.dropna(how='any')\n",
    "\n",
    "#####################################################################################\n",
    "\n",
    "Data_NoObs=Pax.loc[:,['DepDate','FltNum','dtime','yday','Direction','month','dday']].drop_duplicates().copy()\n",
    "\n",
    "distinct_flights=Data_NoObs.shape[0]\n",
    "Data_NoObs.index=range(Data_NoObs.shape[0])\n",
    "Data_NoObs=Data_NoObs.iloc[np.repeat([x for x in Data_NoObs.index],365),:]\n",
    "\n",
    "Data_NoObs['Dprio']=[x for x in range(1,366)]*distinct_flights\n",
    "Data_NoObs['NumPax']=0\n",
    "\n",
    "Pax=pd.concat([Pax,Data_NoObs])\n",
    "Pax=Pax.drop_duplicates(subset=['DepDate','Dprio','FltNum','dtime','yday','Direction','month','dday'])\n",
    "\n",
    "Pax=Pax.sort_values(by=['DepDate','FltNum','dtime','Dprio'],ascending=[True,True,True,False])\n",
    "Pax.index=range(Pax.shape[0])"
   ]
  },
  {
   "cell_type": "markdown",
   "metadata": {},
   "source": [
    "# Group bookings"
   ]
  },
  {
   "cell_type": "code",
   "execution_count": null,
   "metadata": {},
   "outputs": [],
   "source": [
    "GroupPax=Data.groupby(['DepDate','Dprio','FltNum','dtime','yday','Direction','month','dday'])['Group pax'].sum().reset_index()\n",
    "GroupPax['Dprio_min']=GroupPax.groupby(['DepDate','FltNum','dtime','yday','Direction','month','dday'])['Dprio'].transform('min')\n",
    "\n",
    "#####################################################################################\n",
    "\n",
    "Data_NoObs=GroupPax.loc[:,['DepDate','FltNum','dtime','yday','Direction','month','dday']].drop_duplicates().copy()\n",
    "\n",
    "distinct_flights=Data_NoObs.shape[0]\n",
    "Data_NoObs.index=range(Data_NoObs.shape[0])\n",
    "Data_NoObs=Data_NoObs.iloc[np.repeat([x for x in Data_NoObs.index],365),:]\n",
    "\n",
    "Data_NoObs['Dprio']=[x for x in range(1,366)]*distinct_flights\n",
    "Data_NoObs['Group pax']=0\n",
    "\n",
    "Data_NoObs=Data_NoObs.merge(GroupPax[['DepDate','FltNum','dtime','yday','Direction','month','dday','Dprio_min']].drop_duplicates(),\n",
    "                           on=['DepDate','FltNum','dtime','yday','Direction','month','dday'])\n",
    "\n",
    "Data_NoObs=Data_NoObs.loc[Data_NoObs['Dprio']>=Data_NoObs['Dprio_min'],:]\n",
    "GroupPax=pd.concat([GroupPax,Data_NoObs])\n",
    "GroupPax=GroupPax.drop_duplicates(subset=['DepDate','Dprio','FltNum','dtime','yday','Direction','month','dday'])\n",
    "GroupPax=GroupPax[[x for x in GroupPax.columns if '_min' not in x]]\n",
    "Data_NoObs=Data_NoObs[[x for x in Data_NoObs.columns if '_min' not in x]]\n",
    "\n",
    "#####################################################################################\n",
    "\n",
    "GroupPax=GroupPax.sort_values(by=['DepDate','FltNum','dtime','Dprio'],ascending=[True,True,True,False])\n",
    "GroupPax=GroupPax.set_index(['DepDate','Dprio','FltNum','dtime','yday','Direction','month','dday'])\n",
    "\n",
    "GroupPax=GroupPax.groupby(level=[0,2,3,4,5,6]).diff().reset_index()\n",
    "GroupPax=GroupPax.dropna(how='any')\n",
    "\n",
    "#####################################################################################\n",
    "\n",
    "Data_NoObs=GroupPax.loc[:,['DepDate','FltNum','dtime','yday','Direction','month','dday']].drop_duplicates().copy()\n",
    "\n",
    "distinct_flights=Data_NoObs.shape[0]\n",
    "Data_NoObs.index=range(Data_NoObs.shape[0])\n",
    "Data_NoObs=Data_NoObs.iloc[np.repeat([x for x in Data_NoObs.index],365),:]\n",
    "\n",
    "Data_NoObs['Dprio']=[x for x in range(1,366)]*distinct_flights\n",
    "Data_NoObs['Group pax']=0\n",
    "\n",
    "Data_NoObs=Data_NoObs[GroupPax.columns]\n",
    "\n",
    "GroupPax=pd.concat([GroupPax,Data_NoObs])\n",
    "GroupPax=GroupPax.drop_duplicates(subset=['DepDate','Dprio','FltNum','dtime','yday','Direction','month','dday'])\n",
    "\n",
    "GroupPax=GroupPax.sort_values(by=['DepDate','FltNum','dtime','Dprio'],ascending=[True,True,True,False])\n",
    "\n",
    "GroupPax.index=range(GroupPax.shape[0])\n",
    "\n",
    "#######################################################\n",
    "\n",
    "GroupPax['Group_pax_cumul']=GroupPax.groupby(['DepDate','FltNum','yday','Direction','month','dday'])['Group pax'].transform(lambda x: np.cumsum(x))"
   ]
  },
  {
   "cell_type": "markdown",
   "metadata": {},
   "source": [
    "# Remove group bookings from pax data and cabin capacity"
   ]
  },
  {
   "cell_type": "code",
   "execution_count": null,
   "metadata": {},
   "outputs": [],
   "source": [
    "Pax=Pax.merge(GroupPax,on=['DepDate','Dprio','FltNum','dtime','yday','Direction','month','dday'])\n",
    "Pax['NumPax']=Pax['NumPax']-Pax['Group pax']\n",
    "Pax=Pax[[x for x in Pax.columns if x!='Group pax']]\n",
    "\n",
    "##############################################################################\n",
    "\n",
    "# deptime=[str(x/60).split('.')[0]+':'+str(round(float('0.'+str(x/60).split('.')[1])*60)) for x in GroupPax['dtime'].unique()]\n",
    "# deptime=[x+'0' if len(x.split(':')[1])==1 else x for x in deptime]\n",
    "# deptime=['0'+x if len(x.split(':')[0])==1 else x for x in deptime]\n",
    "\n",
    "# Map_DepTime=DataFrame([Capacity['dtime'].unique(),[x+'0' if len(x.split(':')[1])==1 else x for x in deptime]]).transpose()\n",
    "# Map_DepTime.columns=['dtime','deptime']\n",
    "# Map_DepTime['dtime']=Map_DepTime['dtime'].astype('int')\n",
    "\n",
    "# GroupPax=GroupPax.merge(Map_DepTime,on='dtime')\n",
    "# GroupPax['dtime']=GroupPax['deptime']\n",
    "# GroupPax=GroupPax[[x for x in GroupPax.columns if x!='deptime']]\n",
    "\n",
    "# Dropdown_comb=Dropdown_comb.merge(GroupPax[['DepDate','FltNum','dtime','Dprio','Group_pax_cumul']],\n",
    "# on=['DepDate','FltNum','dtime','Dprio'])\n",
    "# Dropdown_comb['Cabin Capacity_removeGroup']=Dropdown_comb['Cabin Capacity']-Dropdown_comb['Group_pax_cumul']\n",
    "# Dropdown_comb['Cabin Capacity_removeGroup']=Dropdown_comb[['Cabin Capacity_removeGroup', 'Cabin Capacity']].apply(lambda x: x[1] if x[0]>x[1] else x[0],axis=1)\n",
    "\n",
    "# Dropdown_comb['Cabin Capacity_removeGroup']=Dropdown_comb['Cabin Capacity_removeGroup'].apply(lambda x: 0 if x<0 else x)\n",
    "# Dropdown_comb['Cabin Capacity']=Dropdown_comb['Cabin Capacity_removeGroup']\n",
    "# Dropdown_comb=Dropdown_comb[[x for x in Dropdown_comb.columns if x!='Group pax' and x!='Cabin Capacity_removeGroup']]"
   ]
  },
  {
   "cell_type": "markdown",
   "metadata": {},
   "source": [
    "# Data export"
   ]
  },
  {
   "cell_type": "markdown",
   "metadata": {},
   "source": [
    "### Pax"
   ]
  },
  {
   "cell_type": "code",
   "execution_count": null,
   "metadata": {},
   "outputs": [],
   "source": [
    "TrainingSet_Pax=Pax.loc[(Pax['DepDate']>=pd.to_datetime('2018-04-01'))\\\n",
    "&(Pax['DepDate']<pd.to_datetime(datetime.datetime.today().strftime('%Y-%m-%d'))),].copy()\n",
    "TestSet_Pax=Pax.loc[Pax['DepDate']>=pd.to_datetime(datetime.datetime.today().strftime('%Y-%m-%d')),].copy()\n",
    "\n",
    "TrainingSet_Pax.to_csv(path+'Intermediate_Output/R_Training_Pax.csv',index=False)\n",
    "TestSet_Pax['DepDate']=TestSet_Pax['DepDate'].apply(lambda x: pd.to_datetime(x))\n",
    "TestSet_Pax.to_csv(path+'Intermediate_Output/R_Test_Pax.csv',index=False)"
   ]
  },
  {
   "cell_type": "markdown",
   "metadata": {},
   "source": [
    "### Group Pax"
   ]
  },
  {
   "cell_type": "code",
   "execution_count": null,
   "metadata": {},
   "outputs": [],
   "source": [
    "GroupPax['Route']=route\n",
    "GroupPax=GroupPax.loc[GroupPax['DepDate']>=pd.to_datetime(datetime.datetime.today().strftime('%Y-%m-%d')),].copy()\n",
    "\n",
    "deptime=[str(x/60).split('.')[0]+':'+str(round(float('0.'+str(x/60).split('.')[1])*60)) for x in GroupPax['dtime'].unique()]\n",
    "deptime=[x+'0' if len(x.split(':')[1])==1 else x for x in deptime]\n",
    "deptime=['0'+x if len(x.split(':')[0])==1 else x for x in deptime]\n",
    "\n",
    "Map_DepTime=DataFrame([GroupPax['dtime'].unique(),[x+'0' if len(x.split(':')[1])==1 else x for x in deptime]]).transpose()\n",
    "Map_DepTime.columns=['dtime','deptime']\n",
    "Map_DepTime['dtime']=Map_DepTime['dtime'].astype('int')\n",
    "\n",
    "GroupPax=GroupPax.merge(Map_DepTime,on='dtime')\n",
    "GroupPax['dtime']=GroupPax['deptime']\n",
    "GroupPax=GroupPax[[x for x in GroupPax.columns if x!='deptime']]\n",
    "\n",
    "if route in ['LUX-DUB','LUX-CDG','LUX-VIE','LUX-HAM','SCN-HAM','LUX-BRI','LUX-VCE','LUX-PRG']:\n",
    "    GroupPax.to_csv(path+'FrontEnd_Input_pierrick/GroupPax_'+route+'.csv',index=False)\n",
    "\n",
    "elif route in ['LUX-LCY','LUX-CPH','LUX-GVA','LUX-LIS','LUX-OPO','LUX-NCE']:\n",
    "    GroupPax.to_csv(path+'FrontEnd_Input_nancy/GroupPax_'+route+'.csv',index=False)\n",
    "else:\n",
    "    GroupPax.to_csv(path+'FrontEnd_Input_patrick/GroupPax_'+route+'.csv',index=False)"
   ]
  },
  {
   "cell_type": "markdown",
   "metadata": {},
   "source": [
    "### Cabin Capacity"
   ]
  },
  {
   "cell_type": "code",
   "execution_count": null,
   "metadata": {},
   "outputs": [],
   "source": [
    "Dropdown_comb['Route']=route\n",
    "#Dropdown_comb=Dropdown_comb.loc[Dropdown_comb['DepDate']>=pd.to_datetime(datetime.datetime.today().strftime('%Y-%m-%d')),].copy()\n",
    "Dropdown_comb.to_csv(path+'Intermediate_Output/Capacity_forPlots_'+route+'.csv',index=False)"
   ]
  }
 ],
 "metadata": {
  "kernelspec": {
   "display_name": "Python 2",
   "language": "python",
   "name": "python2"
  },
  "language_info": {
   "codemirror_mode": {
    "name": "ipython",
    "version": 3
   },
   "file_extension": ".py",
   "mimetype": "text/x-python",
   "name": "python",
   "nbconvert_exporter": "python",
   "pygments_lexer": "ipython3",
   "version": "3.6.7"
  }
 },
 "nbformat": 4,
 "nbformat_minor": 2
}
