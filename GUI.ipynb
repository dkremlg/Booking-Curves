{
 "cells": [
  {
   "cell_type": "code",
   "execution_count": 1,
   "metadata": {},
   "outputs": [],
   "source": [
    "from typing import List\n",
    "\n",
    "import dash\n",
    "import dash_core_components as dcc\n",
    "import dash_html_components as html\n",
    "from dash.dependencies import Input, Output\n",
    "import dash_table\n",
    "\n",
    "import plotly.graph_objs as go\n",
    "import plotly.plotly as py\n",
    "import plotly.figure_factory as ff\n",
    "\n",
    "from flask_cors import CORS\n",
    "\n",
    "import pandas as pd\n",
    "\n",
    "import os\n",
    "import requests\n",
    "import io"
   ]
  },
  {
   "cell_type": "code",
   "execution_count": 2,
   "metadata": {},
   "outputs": [],
   "source": [
    "url='https://raw.githubusercontent.com/dkremlg/Booking-Curves/master/GUI_in.csv'\n",
    "s=requests.get(url).content\n",
    "df=pd.read_csv(io.StringIO(s.decode('utf-8')),sep=',')\n",
    "\n",
    "df['Dprio']=df['Dprio'].astype('float')\n",
    "df['NumPax']=df['NumPax'].astype('float')\n",
    "df['Ideal_lower']=df['Ideal_lower'].astype('float')\n",
    "df['Ideal_average_downweighted']=df['Ideal_average_downweighted'].astype('float')\n",
    "df['Ideal_average_full']=df['Ideal_average_full'].astype('float')\n",
    "df['Ideal_upper']=df['Ideal_upper'].astype('float')\n",
    "\n",
    "dep_dates = df['DepDate'].unique()\n",
    "dtime = df['dtime'].unique()"
   ]
  },
  {
   "cell_type": "markdown",
   "metadata": {},
   "source": [
    "# Function for conditional coloring"
   ]
  },
  {
   "cell_type": "code",
   "execution_count": 3,
   "metadata": {},
   "outputs": [],
   "source": [
    "COLORS = [\n",
    "    {\n",
    "        'background': '#FF0000',\n",
    "        'text': 'black'\n",
    "    },\n",
    "    {\n",
    "        'background': '#5DFC0A',\n",
    "        'text': 'black'\n",
    "    },\n",
    "]\n",
    "\n",
    "def cell_style(value1, value2, value3):\n",
    "\n",
    "    # style = {}\n",
    "    relative_value1 = value1 - value2\n",
    "    relative_value2 = value1 - value3\n",
    "\n",
    "    if relative_value1 < 0 or relative_value2 > 0:\n",
    "            style = {\n",
    "                'backgroundColor': COLORS[0]['background'],\n",
    "                'color': COLORS[0]['text']\n",
    "            }\n",
    "    else:\n",
    "            style = {\n",
    "                'backgroundColor': COLORS[1]['background'],\n",
    "                'color': COLORS[1]['text']\n",
    "            }\n",
    "    return style"
   ]
  },
  {
   "cell_type": "markdown",
   "metadata": {},
   "source": [
    "# Function for table creation"
   ]
  },
  {
   "cell_type": "code",
   "execution_count": 4,
   "metadata": {},
   "outputs": [],
   "source": [
    "def generate_table(dataframe, max_rows=50):\n",
    "    rows = []\n",
    "    for i in range(min(len(dataframe), max_rows)):\n",
    "        row = []\n",
    "        for col in dataframe.columns:\n",
    "            if col == 'NumPax':\n",
    "                value1 = dataframe.iloc[i][col]\n",
    "                value2 = dataframe.iloc[i]['Ideal_lower']\n",
    "                value3 = dataframe.iloc[i]['Ideal_upper']\n",
    "                style = cell_style(value1, value2, value3)\n",
    "                row.append(html.Td(value1, style=style))\n",
    "            else:\n",
    "                value = dataframe.iloc[i][col]\n",
    "                row.append(html.Td(value))\n",
    "        rows.append(html.Tr(row))\n",
    "\n",
    "    return html.Table(\n",
    "            # Header\n",
    "            [html.Tr([html.Th(col) for col in dataframe.columns])] +\n",
    "\n",
    "            # Body\n",
    "            rows)"
   ]
  },
  {
   "cell_type": "markdown",
   "metadata": {},
   "source": [
    "# Import external stylesheet"
   ]
  },
  {
   "cell_type": "code",
   "execution_count": null,
   "metadata": {},
   "outputs": [],
   "source": [
    "external_stylesheets = ['https://codepen.io/chriddyp/pen/bWLwgP.css']"
   ]
  },
  {
   "cell_type": "markdown",
   "metadata": {},
   "source": [
    "# Core code"
   ]
  },
  {
   "cell_type": "code",
   "execution_count": null,
   "metadata": {},
   "outputs": [
    {
     "name": "stdout",
     "output_type": "stream",
     "text": [
      " * Serving Flask app \"__main__\" (lazy loading)\n",
      " * Environment: production\n",
      "   WARNING: Do not use the development server in a production environment.\n",
      "   Use a production WSGI server instead.\n",
      " * Debug mode: off\n"
     ]
    },
    {
     "name": "stderr",
     "output_type": "stream",
     "text": [
      " * Running on http://127.0.0.1:8050/ (Press CTRL+C to quit)\n",
      "127.0.0.1 - - [08/Apr/2019 11:30:25] \"GET / HTTP/1.1\" 200 -\n",
      "127.0.0.1 - - [08/Apr/2019 11:30:25] \"GET /_dash-layout HTTP/1.1\" 200 -\n",
      "127.0.0.1 - - [08/Apr/2019 11:30:25] \"GET /_dash-dependencies HTTP/1.1\" 200 -\n",
      "127.0.0.1 - - [08/Apr/2019 11:30:25] \"POST /_dash-update-component HTTP/1.1\" 200 -\n",
      "127.0.0.1 - - [08/Apr/2019 11:30:29] \"POST /_dash-update-component HTTP/1.1\" 200 -\n",
      "127.0.0.1 - - [08/Apr/2019 11:30:31] \"POST /_dash-update-component HTTP/1.1\" 200 -\n",
      "127.0.0.1 - - [08/Apr/2019 11:30:39] \"POST /_dash-update-component HTTP/1.1\" 200 -\n",
      "127.0.0.1 - - [08/Apr/2019 11:30:41] \"POST /_dash-update-component HTTP/1.1\" 200 -\n",
      "127.0.0.1 - - [08/Apr/2019 11:30:44] \"POST /_dash-update-component HTTP/1.1\" 200 -\n",
      "127.0.0.1 - - [08/Apr/2019 11:30:46] \"POST /_dash-update-component HTTP/1.1\" 200 -\n",
      "127.0.0.1 - - [08/Apr/2019 11:30:49] \"POST /_dash-update-component HTTP/1.1\" 200 -\n",
      "127.0.0.1 - - [08/Apr/2019 11:30:52] \"POST /_dash-update-component HTTP/1.1\" 200 -\n",
      "127.0.0.1 - - [08/Apr/2019 11:31:03] \"POST /_dash-update-component HTTP/1.1\" 200 -\n",
      "127.0.0.1 - - [08/Apr/2019 11:31:10] \"POST /_dash-update-component HTTP/1.1\" 200 -\n",
      "127.0.0.1 - - [08/Apr/2019 11:31:12] \"POST /_dash-update-component HTTP/1.1\" 200 -\n",
      "127.0.0.1 - - [08/Apr/2019 11:32:19] \"POST /_dash-update-component HTTP/1.1\" 200 -\n",
      "127.0.0.1 - - [08/Apr/2019 11:32:27] \"POST /_dash-update-component HTTP/1.1\" 200 -\n",
      "127.0.0.1 - - [08/Apr/2019 11:32:35] \"POST /_dash-update-component HTTP/1.1\" 200 -\n",
      "127.0.0.1 - - [08/Apr/2019 11:32:37] \"POST /_dash-update-component HTTP/1.1\" 200 -\n",
      "127.0.0.1 - - [08/Apr/2019 11:32:45] \"POST /_dash-update-component HTTP/1.1\" 200 -\n"
     ]
    }
   ],
   "source": [
    "app = dash.Dash(__name__, external_stylesheets=external_stylesheets)\n",
    "\n",
    "app.layout = html.Div(children=[\n",
    "    # Header\n",
    "    html.H1(children='Booking curve monitoring system'),\n",
    "    # Dropdown for departure dates\n",
    "    html.Div([dcc.Dropdown(id = 'dropdown_depdates',\n",
    "    options=[{\n",
    "    'label': i,\n",
    "    'value': i\n",
    "    } for i in dep_dates],\n",
    "    value='All Departure Dates')],\n",
    "    style={'width': '48%', 'display': 'inline-block'}),\n",
    "    # Dropdown for departure times\n",
    "    html.Div([dcc.Dropdown(id = 'dropdown_dtime',\n",
    "    options=[{\n",
    "    'label': i,\n",
    "    'value': i\n",
    "    } for i in dtime],\n",
    "    value='All Departure Times')],\n",
    "    style={'width': '48%', 'float': 'right', 'display': 'inline-block'}),\n",
    "    html.Div(id='table-container'),\n",
    "])\n",
    "\n",
    "@app.callback(\n",
    "    Output('table-container', 'children'), \n",
    "    [Input('dropdown_depdates', 'value'),\n",
    "    Input('dropdown_dtime', 'value')])\n",
    "def update_table(value_depdates, value_dtime):\n",
    "    dff = df.loc[(df['DepDate'] == value_depdates)&(df['dtime'] == value_dtime),:] # update with your own logic\n",
    "    return generate_table(dff)\n",
    "\n",
    "if __name__ == '__main__':\n",
    "    app.run_server()"
   ]
  },
  {
   "cell_type": "code",
   "execution_count": null,
   "metadata": {},
   "outputs": [],
   "source": []
  }
 ],
 "metadata": {
  "kernelspec": {
   "display_name": "Python 3",
   "language": "python",
   "name": "python3"
  },
  "language_info": {
   "codemirror_mode": {
    "name": "ipython",
    "version": 3
   },
   "file_extension": ".py",
   "mimetype": "text/x-python",
   "name": "python",
   "nbconvert_exporter": "python",
   "pygments_lexer": "ipython3",
   "version": "3.7.1"
  }
 },
 "nbformat": 4,
 "nbformat_minor": 2
}
